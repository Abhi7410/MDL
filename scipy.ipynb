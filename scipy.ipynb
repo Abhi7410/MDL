{
 "cells": [
  {
   "cell_type": "markdown",
   "id": "a95f16e1",
   "metadata": {},
   "source": [
    "**SCIPY**"
   ]
  },
  {
   "cell_type": "code",
   "execution_count": null,
   "id": "46e3307b",
   "metadata": {},
   "outputs": [],
   "source": [
    "# SciPy\n",
    "# SciPy is a python library used to solve scientific and mathematic problems\n",
    "# It is built on NumPy\n",
    "# Allows manipulation and visualilzing\n",
    "\n",
    "\n",
    "# Numpy and scipy used for mathematical and numerrical analysis\n",
    "# Numpy contains array daya and basic operation\n",
    "# Scipy consists of all the numerical code\n",
    "# SciPy contains fully featured versions of mathematical and scientific functions\n",
    "\n",
    "\n",
    "\n"
   ]
  },
  {
   "cell_type": "code",
   "execution_count": null,
   "id": "8cdea18f",
   "metadata": {},
   "outputs": [],
   "source": [
    "# functions\n",
    "# help() --> returns information about any function keyword class etc\n",
    "# info() --> same\n",
    "# source()--> returns the source code only for objects written in python\n"
   ]
  },
  {
   "cell_type": "code",
   "execution_count": 10,
   "id": "9e4cb7ff",
   "metadata": {},
   "outputs": [
    {
     "name": "stdout",
     "output_type": "stream",
     "text": [
      "Help on package scipy.cluster in scipy:\n",
      "\n",
      "NAME\n",
      "    scipy.cluster\n",
      "\n",
      "DESCRIPTION\n",
      "    =========================================\n",
      "    Clustering package (:mod:`scipy.cluster`)\n",
      "    =========================================\n",
      "    \n",
      "    .. currentmodule:: scipy.cluster\n",
      "    \n",
      "    :mod:`scipy.cluster.vq`\n",
      "    \n",
      "    Clustering algorithms are useful in information theory, target detection,\n",
      "    communications, compression, and other areas. The `vq` module only\n",
      "    supports vector quantization and the k-means algorithms.\n",
      "    \n",
      "    :mod:`scipy.cluster.hierarchy`\n",
      "    \n",
      "    The `hierarchy` module provides functions for hierarchical and\n",
      "    agglomerative clustering.  Its features include generating hierarchical\n",
      "    clusters from distance matrices,\n",
      "    calculating statistics on clusters, cutting linkages\n",
      "    to generate flat clusters, and visualizing clusters with dendrograms.\n",
      "\n",
      "PACKAGE CONTENTS\n",
      "    _hierarchy\n",
      "    _optimal_leaf_ordering\n",
      "    _vq\n",
      "    hierarchy\n",
      "    setup\n",
      "    tests (package)\n",
      "    vq\n",
      "\n",
      "DATA\n",
      "    __all__ = ['vq', 'hierarchy']\n",
      "\n",
      "FILE\n",
      "    /home/abhishek/.local/lib/python3.8/site-packages/scipy/cluster/__init__.py\n",
      "\n",
      "\n"
     ]
    }
   ],
   "source": [
    "from scipy import cluster\n",
    "help(cluster)"
   ]
  },
  {
   "cell_type": "code",
   "execution_count": 11,
   "id": "ce09e441",
   "metadata": {},
   "outputs": [
    {
     "name": "stdout",
     "output_type": "stream",
     "text": [
      "\n",
      "Welcome to Python 3.8's help utility!\n",
      "\n",
      "If this is your first time using Python, you should definitely check out\n",
      "the tutorial on the Internet at https://docs.python.org/3.8/tutorial/.\n",
      "\n",
      "Enter the name of any module, keyword, or topic to get help on writing\n",
      "Python programs and using Python modules.  To quit this help utility and\n",
      "return to the interpreter, just type \"quit\".\n",
      "\n",
      "To get a list of available modules, keywords, symbols, or topics, type\n",
      "\"modules\", \"keywords\", \"symbols\", or \"topics\".  Each module also comes\n",
      "with a one-line summary of what it does; to list the modules whose name\n",
      "or summary contain a given string such as \"spam\", type \"modules spam\".\n",
      "\n",
      "help> scipy.cluster\n",
      "Help on package scipy.cluster in scipy:\n",
      "\n",
      "NAME\n",
      "    scipy.cluster\n",
      "\n",
      "DESCRIPTION\n",
      "    =========================================\n",
      "    Clustering package (:mod:`scipy.cluster`)\n",
      "    =========================================\n",
      "    \n",
      "    .. currentmodule:: scipy.cluster\n",
      "    \n",
      "    :mod:`scipy.cluster.vq`\n",
      "    \n",
      "    Clustering algorithms are useful in information theory, target detection,\n",
      "    communications, compression, and other areas. The `vq` module only\n",
      "    supports vector quantization and the k-means algorithms.\n",
      "    \n",
      "    :mod:`scipy.cluster.hierarchy`\n",
      "    \n",
      "    The `hierarchy` module provides functions for hierarchical and\n",
      "    agglomerative clustering.  Its features include generating hierarchical\n",
      "    clusters from distance matrices,\n",
      "    calculating statistics on clusters, cutting linkages\n",
      "    to generate flat clusters, and visualizing clusters with dendrograms.\n",
      "\n",
      "PACKAGE CONTENTS\n",
      "    _hierarchy\n",
      "    _optimal_leaf_ordering\n",
      "    _vq\n",
      "    hierarchy\n",
      "    setup\n",
      "    tests (package)\n",
      "    vq\n",
      "\n",
      "DATA\n",
      "    __all__ = ['vq', 'hierarchy']\n",
      "\n",
      "FILE\n",
      "    /home/abhishek/.local/lib/python3.8/site-packages/scipy/cluster/__init__.py\n",
      "\n",
      "\n",
      "help> quit\n",
      "\n",
      "You are now leaving help and returning to the Python interpreter.\n",
      "If you want to ask for help on a particular object directly from the\n",
      "interpreter, you can type \"help(object)\".  Executing \"help('string')\"\n",
      "has the same effect as typing a particular string at the help> prompt.\n"
     ]
    }
   ],
   "source": [
    "help()"
   ]
  },
  {
   "cell_type": "code",
   "execution_count": null,
   "id": "ba19ac10",
   "metadata": {},
   "outputs": [],
   "source": [
    "# quit to leave"
   ]
  },
  {
   "cell_type": "code",
   "execution_count": 12,
   "id": "d92f71e5",
   "metadata": {},
   "outputs": [
    {
     "name": "stdout",
     "output_type": "stream",
     "text": [
      "=========================================\n",
      "Clustering package (:mod:`scipy.cluster`)\n",
      "=========================================\n",
      "\n",
      ".. currentmodule:: scipy.cluster\n",
      "\n",
      ":mod:`scipy.cluster.vq`\n",
      "\n",
      "Clustering algorithms are useful in information theory, target detection,\n",
      "communications, compression, and other areas. The `vq` module only\n",
      "supports vector quantization and the k-means algorithms.\n",
      "\n",
      ":mod:`scipy.cluster.hierarchy`\n",
      "\n",
      "The `hierarchy` module provides functions for hierarchical and\n",
      "agglomerative clustering.  Its features include generating hierarchical\n",
      "clusters from distance matrices,\n",
      "calculating statistics on clusters, cutting linkages\n",
      "to generate flat clusters, and visualizing clusters with dendrograms.\n"
     ]
    },
    {
     "name": "stderr",
     "output_type": "stream",
     "text": [
      "/tmp/ipykernel_865443/417839007.py:2: DeprecationWarning: scipy.info is deprecated and will be removed in SciPy 2.0.0, use numpy.info instead\n",
      "  scipy.info(cluster)\n"
     ]
    }
   ],
   "source": [
    "import scipy\n",
    "scipy.info(cluster)"
   ]
  },
  {
   "cell_type": "code",
   "execution_count": 13,
   "id": "90bc8eda",
   "metadata": {},
   "outputs": [
    {
     "name": "stdout",
     "output_type": "stream",
     "text": [
      "In file: /home/abhishek/.local/lib/python3.8/site-packages/scipy/cluster/__init__.py\n",
      "\n",
      "\"\"\"\n",
      "=========================================\n",
      "Clustering package (:mod:`scipy.cluster`)\n",
      "=========================================\n",
      "\n",
      ".. currentmodule:: scipy.cluster\n",
      "\n",
      ":mod:`scipy.cluster.vq`\n",
      "\n",
      "Clustering algorithms are useful in information theory, target detection,\n",
      "communications, compression, and other areas. The `vq` module only\n",
      "supports vector quantization and the k-means algorithms.\n",
      "\n",
      ":mod:`scipy.cluster.hierarchy`\n",
      "\n",
      "The `hierarchy` module provides functions for hierarchical and\n",
      "agglomerative clustering.  Its features include generating hierarchical\n",
      "clusters from distance matrices,\n",
      "calculating statistics on clusters, cutting linkages\n",
      "to generate flat clusters, and visualizing clusters with dendrograms.\n",
      "\n",
      "\"\"\"\n",
      "__all__ = ['vq', 'hierarchy']\n",
      "\n",
      "from . import vq, hierarchy\n",
      "\n",
      "from scipy._lib._testutils import PytestTester\n",
      "test = PytestTester(__name__)\n",
      "del PytestTester\n",
      "\n"
     ]
    },
    {
     "name": "stderr",
     "output_type": "stream",
     "text": [
      "/tmp/ipykernel_865443/47707676.py:1: DeprecationWarning: scipy.source is deprecated and will be removed in SciPy 2.0.0, use numpy.source instead\n",
      "  scipy.source(cluster)\n"
     ]
    }
   ],
   "source": [
    "scipy.source(cluster)"
   ]
  },
  {
   "cell_type": "code",
   "execution_count": 4,
   "id": "273050d0",
   "metadata": {},
   "outputs": [
    {
     "name": "stdout",
     "output_type": "stream",
     "text": [
      "3.141592653589793\n",
      "['Avogadro', 'Boltzmann', 'Btu', 'Btu_IT', 'Btu_th', 'ConstantWarning', 'G', 'Julian_year', 'N_A', 'Planck', 'R', 'Rydberg', 'Stefan_Boltzmann', 'Wien', '__all__', '__builtins__', '__cached__', '__doc__', '__file__', '__loader__', '__name__', '__package__', '__path__', '__spec__', '_obsolete_constants', 'acre', 'alpha', 'angstrom', 'arcmin', 'arcminute', 'arcsec', 'arcsecond', 'astronomical_unit', 'atm', 'atmosphere', 'atomic_mass', 'atto', 'au', 'bar', 'barrel', 'bbl', 'blob', 'c', 'calorie', 'calorie_IT', 'calorie_th', 'carat', 'centi', 'codata', 'constants', 'convert_temperature', 'day', 'deci', 'degree', 'degree_Fahrenheit', 'deka', 'dyn', 'dyne', 'e', 'eV', 'electron_mass', 'electron_volt', 'elementary_charge', 'epsilon_0', 'erg', 'exa', 'exbi', 'femto', 'fermi', 'find', 'fine_structure', 'fluid_ounce', 'fluid_ounce_US', 'fluid_ounce_imp', 'foot', 'g', 'gallon', 'gallon_US', 'gallon_imp', 'gas_constant', 'gibi', 'giga', 'golden', 'golden_ratio', 'grain', 'gram', 'gravitational_constant', 'h', 'hbar', 'hectare', 'hecto', 'horsepower', 'hour', 'hp', 'inch', 'k', 'kgf', 'kibi', 'kilo', 'kilogram_force', 'kmh', 'knot', 'lambda2nu', 'lb', 'lbf', 'light_year', 'liter', 'litre', 'long_ton', 'm_e', 'm_n', 'm_p', 'm_u', 'mach', 'mebi', 'mega', 'metric_ton', 'micro', 'micron', 'mil', 'mile', 'milli', 'minute', 'mmHg', 'mph', 'mu_0', 'nano', 'nautical_mile', 'neutron_mass', 'nu2lambda', 'ounce', 'oz', 'parsec', 'pebi', 'peta', 'physical_constants', 'pi', 'pico', 'point', 'pound', 'pound_force', 'precision', 'proton_mass', 'psi', 'pt', 'short_ton', 'sigma', 'slinch', 'slug', 'speed_of_light', 'speed_of_sound', 'stone', 'survey_foot', 'survey_mile', 'tebi', 'tera', 'test', 'ton_TNT', 'torr', 'troy_ounce', 'troy_pound', 'u', 'unit', 'value', 'week', 'yard', 'year', 'yobi', 'yotta', 'zebi', 'zepto', 'zero_Celsius', 'zetta']\n",
      "1.380649e-23\n",
      "1000000.0\n"
     ]
    }
   ],
   "source": [
    "# constants\n",
    "\n",
    "from scipy import constants\n",
    "\n",
    "print(constants.pi)\n",
    "print(dir(constants))\n",
    "\n",
    "print(constants.Boltzmann)\n",
    "print(constants.mega)\n",
    "\n",
    "# all scientific constants "
   ]
  },
  {
   "cell_type": "code",
   "execution_count": 5,
   "id": "e0b9f0c5",
   "metadata": {},
   "outputs": [
    {
     "name": "stdout",
     "output_type": "stream",
     "text": [
      "60.0\n",
      "3600.0\n",
      "86400.0\n",
      "604800.0\n",
      "31536000.0\n",
      "31557600.0\n"
     ]
    }
   ],
   "source": [
    "\n",
    "print(constants.minute)      #60.0\n",
    "print(constants.hour)        #3600.0\n",
    "print(constants.day)         #86400.0\n",
    "print(constants.week)        #604800.0\n",
    "print(constants.year)        #31536000.0\n",
    "print(constants.Julian_year) #31557600.0"
   ]
  },
  {
   "cell_type": "code",
   "execution_count": null,
   "id": "10947629",
   "metadata": {},
   "outputs": [],
   "source": [
    "#  optimizers\n",
    "# Optimizers are a set of procedures defined in SciPy that either find the minimum value \n",
    "# of a function, or the root of an equation\n",
    "\n",
    "# NumPy is capable of finding roots for polynomials and linear equations, but it can not find roots for non linear equations, like this one:\n",
    "# x + cos(x)\n"
   ]
  },
  {
   "cell_type": "code",
   "execution_count": 7,
   "id": "4f716182",
   "metadata": {},
   "outputs": [
    {
     "name": "stdout",
     "output_type": "stream",
     "text": [
      "[-0.73908513]\n",
      "    fjac: array([[-1.]])\n",
      "     fun: array([0.])\n",
      " message: 'The solution converged.'\n",
      "    nfev: 9\n",
      "     qtf: array([-2.66786593e-13])\n",
      "       r: array([-1.67361202])\n",
      "  status: 1\n",
      " success: True\n",
      "       x: array([-0.73908513])\n"
     ]
    }
   ],
   "source": [
    "# For that you can use SciPy's optimze.root function.\n",
    "\n",
    "# This function takes two required arguments:\n",
    "\n",
    "# fun - a function representing an equation.\n",
    "\n",
    "# x0 - an initial guess for the root.\n",
    "\n",
    "from scipy.optimize import root\n",
    "from math import cos\n",
    "\n",
    "def eqn(x):\n",
    "  return x + cos(x)\n",
    "\n",
    "myroot = root(eqn, 0)\n",
    "\n",
    "print(myroot.x)\n",
    "print(myroot)\n",
    "\n"
   ]
  },
  {
   "cell_type": "code",
   "execution_count": 12,
   "id": "16c53e14",
   "metadata": {},
   "outputs": [
    {
     "name": "stdout",
     "output_type": "stream",
     "text": [
      "      fun: 1.75\n",
      " hess_inv: array([[0.50000001]])\n",
      "      jac: array([0.])\n",
      "  message: 'Optimization terminated successfully.'\n",
      "     nfev: 8\n",
      "      nit: 2\n",
      "     njev: 4\n",
      "   status: 0\n",
      "  success: True\n",
      "        x: array([-0.50000001])\n",
      "     fun: 1.75\n",
      "     jac: array([2.98023224e-08])\n",
      " message: 'Optimization terminated successfully.'\n",
      "    nfev: 10\n",
      "     nit: 2\n",
      "    njev: 5\n",
      "  status: 0\n",
      " success: True\n",
      "       x: array([-0.5])\n"
     ]
    }
   ],
   "source": [
    "from scipy.optimize import minimize\n",
    "\n",
    "def eqn(x):\n",
    "  return x**2 + x + 2\n",
    "\n",
    "mymin = minimize(eqn, 0, method='BFGS')\n",
    "mymin2 = minimize(eqn,0,method='CG')\n",
    "print(mymin)\n",
    "\n",
    "print(mymin2)\n",
    "# method - name of the method to use. Legal values:\n",
    "#     'CG'\n",
    "#     'BFGS'\n",
    "#     'Newton-CG'\n",
    "#     'L-BFGS-B'\n",
    "#     'TNC'\n",
    "#     'COBYLA'\n",
    "#     'SLSQP'\n",
    "\n"
   ]
  },
  {
   "cell_type": "code",
   "execution_count": null,
   "id": "f98a4f3e",
   "metadata": {},
   "outputs": [],
   "source": [
    "# for sparse arrray or matrix read if from w3schools"
   ]
  },
  {
   "cell_type": "code",
   "execution_count": 19,
   "id": "95725c8c",
   "metadata": {},
   "outputs": [
    {
     "name": "stdout",
     "output_type": "stream",
     "text": [
      "(1, array([0, 0, 0], dtype=int32))\n",
      " \n",
      "(array([0., 1., 2.]), array([-9999,     0,     0], dtype=int32))\n",
      " \n",
      "(array([[0., 1., 2.],\n",
      "       [1., 0., 3.],\n",
      "       [2., 3., 0.]]), array([[-9999,     0,     0],\n",
      "       [    1, -9999,     0],\n",
      "       [    2,     0, -9999]], dtype=int32))\n"
     ]
    }
   ],
   "source": [
    "#  graphs\n",
    "\n",
    "import numpy as np\n",
    "from scipy.sparse.csgraph import connected_components\n",
    "from scipy.sparse.csgraph import dijkstra\n",
    "from scipy.sparse.csgraph import floyd_warshall\n",
    "from scipy.sparse import csr_matrix\n",
    "\n",
    "arr = np.array([\n",
    "  [0, 1, 2],\n",
    "  [1, 0, 0],\n",
    "  [2, 0, 0]\n",
    "])\n",
    "# CSR - Compressed Sparse Row.\n",
    "# For fast row slicing, faster matrix vector products\n",
    "\n",
    "\n",
    "newarr = csr_matrix(arr)\n",
    "# connected compo\n",
    "print(connected_components(newarr))\n",
    "print(\" \")\n",
    "# shorted path from one element to another\n",
    "print(dijkstra(newarr,return_predecessors=True,indices=0))\n",
    "print(\" \")\n",
    "# floyd warshell for finding shorted path between all pair of elements\n",
    "print(floyd_warshall(newarr,return_predecessors=True))\n",
    "\n",
    "# same we can do DFS, BFS, bellman ford\n"
   ]
  },
  {
   "cell_type": "markdown",
   "id": "7a36f27c",
   "metadata": {},
   "source": [
    "# special function\n"
   ]
  },
  {
   "cell_type": "code",
   "execution_count": 37,
   "id": "ee82d063",
   "metadata": {},
   "outputs": [
    {
     "name": "stdout",
     "output_type": "stream",
     "text": [
      "(3.9086503371292665, 4.3394735994897923e-14)\n",
      "1000.0\n"
     ]
    }
   ],
   "source": [
    "# exponential function\n",
    "from scipy import integrate\n",
    "from scipy import special\n",
    "a = special.exp10(3)\n",
    "\n",
    "\n",
    "\n",
    "print(a)"
   ]
  },
  {
   "cell_type": "code",
   "execution_count": 34,
   "id": "ee43b51c",
   "metadata": {},
   "outputs": [
    {
     "name": "stdout",
     "output_type": "stream",
     "text": [
      "1.0\n",
      "0.49999999999999994\n"
     ]
    }
   ],
   "source": [
    "# trignometric\n",
    "c=special.sindg(90)\n",
    "print(c)\n",
    "d=special.cosdg(60)\n",
    "print(d)"
   ]
  },
  {
   "cell_type": "markdown",
   "id": "cabada38",
   "metadata": {},
   "source": [
    "# integration function"
   ]
  },
  {
   "cell_type": "code",
   "execution_count": 39,
   "id": "adf1d808",
   "metadata": {},
   "outputs": [
    {
     "name": "stdout",
     "output_type": "stream",
     "text": [
      "(3.9086503371292665, 4.3394735994897923e-14)\n",
      "(-0.0, 4.405142707569776e-14)\n"
     ]
    }
   ],
   "source": [
    "from scipy import integrate\n",
    "from scipy import special\n",
    "print(integrate.quad(lambda x: special.exp10(x),0,1))\n",
    "# quad to intergrate the functio in which there is one variable\n",
    "# dblquad is for double integration ( two variables)\n",
    "e=lambda x,y:x*y**2\n",
    "f=lambda x:1\n",
    "g=lambda x:-1\n",
    "print(integrate.dblquad(e,0,2,f,g))"
   ]
  },
  {
   "cell_type": "markdown",
   "id": "9bf08faf",
   "metadata": {},
   "source": [
    "# fourier transormation"
   ]
  },
  {
   "cell_type": "code",
   "execution_count": 40,
   "id": "5dc52477",
   "metadata": {},
   "outputs": [
    {
     "name": "stdout",
     "output_type": "stream",
     "text": [
      "[15. -0.j         -2.5+3.4409548j  -2.5+0.81229924j -2.5-0.81229924j\n",
      " -2.5-3.4409548j ]\n"
     ]
    }
   ],
   "source": [
    "# use fft and ifft function \n",
    "from scipy.fftpack import fft,ifft\n",
    "import numpy as np\n",
    "x=np.array([1,2,3,4,5])\n",
    "y=fft(x)\n",
    "print(y)\n",
    "\n",
    "\n",
    "\n"
   ]
  },
  {
   "cell_type": "markdown",
   "id": "b343e6ff",
   "metadata": {},
   "source": [
    "# linear algebra"
   ]
  },
  {
   "cell_type": "code",
   "execution_count": 49,
   "id": "843c3dfa",
   "metadata": {},
   "outputs": [
    {
     "name": "stdout",
     "output_type": "stream",
     "text": [
      "[[-2.   1. ]\n",
      " [ 1.5 -0.5]]\n",
      "[0.22580645 0.70967742]\n",
      "31.0\n",
      "[8.23606798+0.j 3.76393202+0.j]\n",
      "[[ 0.85065081 -0.52573111]\n",
      " [ 0.52573111  0.85065081]]\n"
     ]
    }
   ],
   "source": [
    "import numpy as np\n",
    "from scipy import linalg\n",
    "a = np.array([[1,2],[3,4]])\n",
    "b=linalg.inv(a)\n",
    "print(b)\n",
    "# linalg = linear algebra\n",
    "\n",
    "x=np.array([[7,2],[2,5]])\n",
    "y=np.array([3,4])\n",
    "z = linalg.solve(x,y)\n",
    "print(z)\n",
    "print(linalg.det(x))\n",
    "# inverse\n",
    "# solve the linear equation\n",
    "# pseudo inverse\n",
    "# determinant\n",
    "# singular value decomposition\n",
    "# eigen values and eigen vectors\n",
    "val,vect = linalg.eig(x)\n",
    "print(val)\n",
    "print(vect)\n",
    "# norm = how close the two vectors are\n"
   ]
  },
  {
   "cell_type": "markdown",
   "id": "6091074f",
   "metadata": {},
   "source": [
    "# interpolation points"
   ]
  },
  {
   "cell_type": "code",
   "execution_count": null,
   "id": "207a6b31",
   "metadata": {},
   "outputs": [],
   "source": [
    "# interplation reers to constructing new data points within a set of known data points\n"
   ]
  },
  {
   "cell_type": "code",
   "execution_count": 51,
   "id": "b8d1e1d3",
   "metadata": {},
   "outputs": [
    {
     "data": {
      "image/png": "[encoded data removed]",
      "text/plain": [
       "<Figure size 432x288 with 1 Axes>"
      ]
     },
     "metadata": {
      "needs_background": "light"
     },
     "output_type": "display_data"
    }
   ],
   "source": [
    "import matplotlib.pyplot as plt\n",
    "from scipy import interpolate\n",
    "import numpy as np\n",
    "x = np.arange(5,20)\n",
    "y = np.exp(x/3.0)\n",
    "f = interpolate.interp1d(x,y)\n",
    "x1=np.arange(6,12)\n",
    "y1 = f(x1)\n",
    "plt.plot(x,y,'o',x1,y1,'--')\n",
    "plt.show()"
   ]
  }
 ],
 "metadata": {
  "kernelspec": {
   "display_name": "Python 3 (ipykernel)",
   "language": "python",
   "name": "python3"
  },
  "language_info": {
   "codemirror_mode": {
    "name": "ipython",
    "version": 3
   },
   "file_extension": ".py",
   "mimetype": "text/x-python",
   "name": "python",
   "nbconvert_exporter": "python",
   "pygments_lexer": "ipython3",
   "version": "3.8.10"
  }
 },
 "nbformat": 4,
 "nbformat_minor": 5
}
