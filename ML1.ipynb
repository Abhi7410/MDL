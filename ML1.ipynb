{
 "cells": [
  {
   "cell_type": "markdown",
   "id": "0d232d8c",
   "metadata": {},
   "source": [
    "# MACHINE LEARNING\n"
   ]
  },
  {
   "cell_type": "raw",
   "id": "bbf2c587",
   "metadata": {},
   "source": [
    " Machine learning is a subset of AI, which enables the machine to automatically learn from data, \n",
    " improve performance from past experiences, and make predictions.  \n",
    " Machine learning contains a set of algorithms that work on a huge amount of data. Data is fed to these  \n",
    " algorithms train them, and on the basis of training, they build the model & perform a specific task.\n",
    " \n",
    " TYPES OF MACHINE LEARNING:\n",
    "\n",
    "\n",
    "\n",
    "   1. Supervised Machine Learning\n",
    "   2. Unsupervised Machine Learning\n",
    "   3. Semi-Supervised Machine Learning\n",
    "   4. Reinforcement Learning\n"
   ]
  },
  {
   "cell_type": "markdown",
   "id": "10ac70a8",
   "metadata": {},
   "source": [
    "<font color='red'><b>SUPERVISED LEARNING</b></font>\n",
    "<p>As its name suggests, <b>Supervised machine learning</b> is based on supervision. It means in the supervised learning technique, we train the machines using the \"labelled\" dataset, and based on the training, the machine predicts the output. Here, the labelled data specifies that some of the inputs are already mapped to the output. More preciously, we can say; first, we train the machine with the input and corresponding output, and then we ask the machine to predict the output using the test dataset.</p>\n",
    "<font color='blue'>Example</font>\n",
    "<p>Suppose we have an input dataset of cats and dog images. So, first, we will provide the training to the machine to understand the images, such as <i>the shape & size of the tail of cat and dog, Shape of eyes, colour, height (dogs are taller, cats are smaller), etc.</i> After completion of training, we input the picture of a cat and ask the machine to identify the object and predict the output. Now, the machine is well trained, so it will check all the features of the object, such as height, shape, colour, eyes, ears, tail, etc., and find that it's a cat. So, it will put it in the Cat category. This is the process of how the machine identifies the objects in Supervised Learning.</p>\n",
    "Some real-world applications of supervised learning are <font color='red'>Risk Assessment, Fraud Detection, Spam filtering, etc.</font>\n"
   ]
  },
  {
   "cell_type": "markdown",
   "id": "001b74a9",
   "metadata": {},
   "source": [
    "<font color='red'><b>UNSUPERVISED LEARNING</b></font>\n",
    "<p>Unsupervised learning is different from the Supervised learning technique; as its name suggests, there is no need for supervision. It means, in unsupervised machine learning, the machine is trained using the unlabeled dataset, and the machine predicts the output without any supervision.\n",
    "\n",
    "In unsupervised learning, the models are trained with the data that is neither classified nor labelled, and the model acts on that data without any supervision.</p>\n",
    "\n",
    "<font color='blue'>Example</font>\n",
    "<p>Let's take an example to understand it more preciously; suppose there is a basket of fruit images, and we input it into the machine learning model. The images are totally unknown to the model, and the task of the machine is to find the patterns and categories of the objects.\n",
    "So, now the machine will discover its patterns and differences, such as colour difference, shape difference, and predict the output when it is tested with the test dataset.</p>"
   ]
  },
  {
   "cell_type": "markdown",
   "id": "f7b6db28",
   "metadata": {},
   "source": [
    "<font color='red'><b>SEMI-SUPERVISED LEARNING</b></font>\n",
    "<p>Semi-Supervised learning is a type of Machine Learning algorithm that lies between Supervised and Unsupervised machine learning. It represents the intermediate ground between Supervised (With Labelled training data) and Unsupervised learning (with no labelled training data) algorithms and uses the combination of labelled and unlabeled datasets during the training period.\n",
    "\n",
    "Although Semi-supervised learning is the middle ground between supervised and unsupervised learning and operates on the data that consists of a few labels, it mostly consists of unlabeled data. As labels are costly, but for corporate purposes, they may have few labels. It is completely different from supervised and unsupervised learning as they are based on the presence & absence of labels.\n",
    "It is introduced to overccome the drawbacks of supervised and unsupervised learning. We will use both types of datas labelled and unlabelled unlike in supervised learning we use only labelled data.</p>"
   ]
  },
  {
   "cell_type": "markdown",
   "id": "e374f4b0",
   "metadata": {},
   "source": [
    "<font color='red'><b>REINFORCEMENT LEARNING</b></font>\n",
    "<p>Reinforcement learning works on a feedback-based process, in which an AI agent (A software component) automatically explore its surrounding by hitting & trail, taking action, learning from experiences, and improving its performance. Agent gets rewarded for each good action and get punished for each bad action; hence the goal of reinforcement learning agent is to maximize the rewards.\n",
    "\n",
    "In reinforcement learning, there is no labelled data like supervised learning, and agents learn from their experiences only.\n",
    "<b>Due to its way of working, reinforcement learning is employed in different fields such as Game theory, Operation Research, Information theory, multi-agent systems.</b>\n",
    "</p>"
   ]
  },
  {
   "cell_type": "code",
   "execution_count": null,
   "id": "27c39690",
   "metadata": {},
   "outputs": [],
   "source": []
  }
 ],
 "metadata": {
  "kernelspec": {
   "display_name": "Python 3 (ipykernel)",
   "language": "python",
   "name": "python3"
  },
  "language_info": {
   "codemirror_mode": {
    "name": "ipython",
    "version": 3
   },
   "file_extension": ".py",
   "mimetype": "text/x-python",
   "name": "python",
   "nbconvert_exporter": "python",
   "pygments_lexer": "ipython3",
   "version": "3.8.10"
  }
 },
 "nbformat": 4,
 "nbformat_minor": 5
}
