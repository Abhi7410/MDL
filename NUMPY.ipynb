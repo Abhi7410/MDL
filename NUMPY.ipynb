{
 "cells": [
  {
   "cell_type": "markdown",
   "id": "5b5d2d29",
   "metadata": {},
   "source": [
    "# NUMPY TUTORIAL"
   ]
  },
  {
   "cell_type": "code",
   "execution_count": 2,
   "id": "55eab60b",
   "metadata": {},
   "outputs": [],
   "source": [
    "# Array 1-d"
   ]
  },
  {
   "cell_type": "code",
   "execution_count": 7,
   "id": "e6fe3e05",
   "metadata": {},
   "outputs": [
    {
     "data": {
      "text/plain": [
       "array([1, 2, 3, 4, 5])"
      ]
     },
     "execution_count": 7,
     "metadata": {},
     "output_type": "execute_result"
    }
   ],
   "source": [
    "import numpy as np\n",
    "a=[1,2,3,4,5]\n",
    "myarr=np.array(a)\n",
    "myarr\n"
   ]
  },
  {
   "cell_type": "code",
   "execution_count": 6,
   "id": "23717468",
   "metadata": {},
   "outputs": [
    {
     "data": {
      "text/plain": [
       "array([1, 2, 3, 4, 5, 6, 7])"
      ]
     },
     "execution_count": 6,
     "metadata": {},
     "output_type": "execute_result"
    }
   ],
   "source": [
    "myarrr=np.array([1,2,3,4,5,6,7])\n",
    "myarrr"
   ]
  },
  {
   "cell_type": "code",
   "execution_count": 8,
   "id": "6a6471f7",
   "metadata": {},
   "outputs": [
    {
     "name": "stdout",
     "output_type": "stream",
     "text": [
      "Enter size of the array 5\n",
      "Enter number1\n",
      "Enter number3\n",
      "Enter number8\n",
      "Enter number9\n",
      "Enter number10\n"
     ]
    },
    {
     "data": {
      "text/plain": [
       "array([ 1,  3,  8,  9, 10])"
      ]
     },
     "execution_count": 8,
     "metadata": {},
     "output_type": "execute_result"
    }
   ],
   "source": [
    "a=[]\n",
    "n=int(input(\"Enter size of the array \"))\n",
    "for i in range(n):\n",
    "    val=int(input(\"Enter number\"))\n",
    "    a.append(val)\n",
    "myarray=np.array(a)\n",
    "myarray"
   ]
  },
  {
   "cell_type": "code",
   "execution_count": null,
   "id": "0bf3f9c7",
   "metadata": {},
   "outputs": [],
   "source": [
    "# 2-D array"
   ]
  },
  {
   "cell_type": "code",
   "execution_count": 11,
   "id": "16370882",
   "metadata": {},
   "outputs": [
    {
     "data": {
      "text/plain": [
       "array([[1, 2, 3],\n",
       "       [4, 5, 6],\n",
       "       [4, 2, 6]])"
      ]
     },
     "execution_count": 11,
     "metadata": {},
     "output_type": "execute_result"
    }
   ],
   "source": [
    "import numpy as np\n",
    "ms=np.array([[1,2,3],[4,5,6],[4,2,6]])\n",
    "ms"
   ]
  },
  {
   "cell_type": "code",
   "execution_count": 12,
   "id": "93a8fd5e",
   "metadata": {},
   "outputs": [
    {
     "name": "stdout",
     "output_type": "stream",
     "text": [
      "Dimension of array= 2\n"
     ]
    }
   ],
   "source": [
    "print(\"Dimension of array=\",ms.ndim)"
   ]
  },
  {
   "cell_type": "code",
   "execution_count": 13,
   "id": "45441b9b",
   "metadata": {},
   "outputs": [
    {
     "name": "stdout",
     "output_type": "stream",
     "text": [
      "shape of array= (3, 3)\n"
     ]
    }
   ],
   "source": [
    "print(\"shape of array=\",ms.shape)"
   ]
  },
  {
   "cell_type": "markdown",
   "id": "dcf28214",
   "metadata": {},
   "source": [
    "**Built in functions**"
   ]
  },
  {
   "cell_type": "code",
   "execution_count": null,
   "id": "0ff0ca58",
   "metadata": {},
   "outputs": [],
   "source": [
    "# built in functions\n",
    "# 1. zeros = It will fill the array with zeroes\n",
    "# 2. ones = It will fill the array with ones\n",
    "# 3. eye = diagonally 1 and make other zeroes , It will work also in the case of\n",
    "#          non-square matrix and will fill 1 till it can make squar matrix\n",
    "# 4. diag = elements will be given to fill as diagonal\n",
    "# 5. randint = Used to generat a random numbet between a given range --> rand(min,max,total_values)\n",
    "# 6. rand  =  Used to generate a random values between 0 to 1 --> rand(number of values)\n",
    "# 7. randn =  same as rand with negative values also \n",
    "\n"
   ]
  },
  {
   "cell_type": "code",
   "execution_count": 19,
   "id": "d2b8ea46",
   "metadata": {},
   "outputs": [
    {
     "data": {
      "text/plain": [
       "array([[0., 0., 0.],\n",
       "       [0., 0., 0.]])"
      ]
     },
     "execution_count": 19,
     "metadata": {},
     "output_type": "execute_result"
    }
   ],
   "source": [
    "import numpy as np\n",
    "abhi=np.zeros((2,3))\n",
    "abhi"
   ]
  },
  {
   "cell_type": "code",
   "execution_count": 21,
   "id": "bd168ed2",
   "metadata": {},
   "outputs": [
    {
     "data": {
      "text/plain": [
       "array([[1., 0., 0., 0.],\n",
       "       [0., 1., 0., 0.],\n",
       "       [0., 0., 1., 0.]])"
      ]
     },
     "execution_count": 21,
     "metadata": {},
     "output_type": "execute_result"
    }
   ],
   "source": [
    "var=np.eye(3,4)\n",
    "var"
   ]
  },
  {
   "cell_type": "code",
   "execution_count": 23,
   "id": "f522c662",
   "metadata": {},
   "outputs": [
    {
     "data": {
      "text/plain": [
       "array([[1, 0, 0, 0],\n",
       "       [0, 2, 0, 0],\n",
       "       [0, 0, 3, 0],\n",
       "       [0, 0, 0, 4]])"
      ]
     },
     "execution_count": 23,
     "metadata": {},
     "output_type": "execute_result"
    }
   ],
   "source": [
    "va=np.diag([1,2,3,4])\n",
    "va"
   ]
  },
  {
   "cell_type": "code",
   "execution_count": 25,
   "id": "15ac4b11",
   "metadata": {},
   "outputs": [
    {
     "data": {
      "text/plain": [
       "array([1, 2, 3, 4])"
      ]
     },
     "execution_count": 25,
     "metadata": {},
     "output_type": "execute_result"
    }
   ],
   "source": [
    "np.diag(va)"
   ]
  },
  {
   "cell_type": "code",
   "execution_count": 27,
   "id": "8a0d40fa",
   "metadata": {},
   "outputs": [
    {
     "data": {
      "text/plain": [
       "array([6, 9, 3])"
      ]
     },
     "execution_count": 27,
     "metadata": {},
     "output_type": "execute_result"
    }
   ],
   "source": [
    "import numpy as np\n",
    "arr = np.random.randint(1,10,3)\n",
    "arr"
   ]
  },
  {
   "cell_type": "code",
   "execution_count": 28,
   "id": "b50976dd",
   "metadata": {},
   "outputs": [
    {
     "data": {
      "text/plain": [
       "array([0.73712492, 0.07412359, 0.25522451, 0.55975623, 0.64839687,\n",
       "       0.32771119])"
      ]
     },
     "execution_count": 28,
     "metadata": {},
     "output_type": "execute_result"
    }
   ],
   "source": [
    "import numpy as np\n",
    "arr = np.random.rand(6)\n",
    "arr"
   ]
  },
  {
   "cell_type": "code",
   "execution_count": 29,
   "id": "b4c71fce",
   "metadata": {},
   "outputs": [
    {
     "data": {
      "text/plain": [
       "array([[0.2314372 , 0.45132095, 0.14965541, 0.36543207, 0.02048852],\n",
       "       [0.26617836, 0.72953233, 0.42745129, 0.70342264, 0.34551728]])"
      ]
     },
     "execution_count": 29,
     "metadata": {},
     "output_type": "execute_result"
    }
   ],
   "source": [
    "arr = np.random.rand(2,5)\n",
    "arr"
   ]
  },
  {
   "cell_type": "markdown",
   "id": "39b80ff0",
   "metadata": {},
   "source": [
    "**slicing**"
   ]
  },
  {
   "cell_type": "code",
   "execution_count": 85,
   "id": "515293c5",
   "metadata": {},
   "outputs": [
    {
     "name": "stdout",
     "output_type": "stream",
     "text": [
      "1 2 3 4 5 "
     ]
    }
   ],
   "source": [
    "import numpy as np\n",
    "a=np.array([1,2,3,4,5])\n",
    "for i in range(a.size):\n",
    "    print(a[i],end=\" \")\n"
   ]
  },
  {
   "cell_type": "code",
   "execution_count": null,
   "id": "51d061af",
   "metadata": {},
   "outputs": [],
   "source": [
    "#  slicing :  arr[a:b] from a to b-1\n",
    "#   arr[a:b:c] a to b-1 taking c steps to reach "
   ]
  },
  {
   "cell_type": "code",
   "execution_count": 45,
   "id": "2edd3805",
   "metadata": {},
   "outputs": [
    {
     "name": "stdout",
     "output_type": "stream",
     "text": [
      "[3 4]\n",
      "[3 4]\n"
     ]
    }
   ],
   "source": [
    "print(a[2:4])\n",
    "print(a[-3:-1])"
   ]
  },
  {
   "cell_type": "code",
   "execution_count": 46,
   "id": "35efce23",
   "metadata": {},
   "outputs": [
    {
     "name": "stdout",
     "output_type": "stream",
     "text": [
      "[1 3 5]\n"
     ]
    }
   ],
   "source": [
    "import numpy as np\n",
    "arr=np.array([1,2,3,4,5])\n",
    "print(arr[0:5:2])\n",
    "    "
   ]
  },
  {
   "cell_type": "code",
   "execution_count": 51,
   "id": "8ce4f200",
   "metadata": {},
   "outputs": [
    {
     "name": "stdout",
     "output_type": "stream",
     "text": [
      "[4 9]\n"
     ]
    }
   ],
   "source": [
    "# 2-D slicing\n",
    "import numpy as np\n",
    "\n",
    "arr = np.array([[1, 2, 3, 4, 5], [6, 7, 8, 9, 10]])\n",
    "\n",
    "print(arr[0:5, 3])"
   ]
  },
  {
   "cell_type": "code",
   "execution_count": 52,
   "id": "7f28c3e8",
   "metadata": {},
   "outputs": [
    {
     "name": "stdout",
     "output_type": "stream",
     "text": [
      "[7 8 9]\n"
     ]
    }
   ],
   "source": [
    "import numpy as np\n",
    "#  from 1st(second row) index return [1,4)\n",
    "arr = np.array([[1, 2, 3, 4, 5], [6, 7, 8, 9, 10]])\n",
    "\n",
    "print(arr[1, 1:4])"
   ]
  },
  {
   "cell_type": "code",
   "execution_count": 57,
   "id": "2779ed98",
   "metadata": {},
   "outputs": [
    {
     "name": "stdout",
     "output_type": "stream",
     "text": [
      "[[ 2  3  4  5]\n",
      " [ 7  8  9 10]]\n"
     ]
    }
   ],
   "source": [
    "import numpy as np\n",
    "# from both indexes slice index 1 to index 4\n",
    "#first slicing for array partition and second one for row elements\n",
    "arr = np.array([[1, 2, 3, 4, 5], [6, 7, 8, 9, 10],[10,11,12,13,14]])\n",
    "\n",
    "print(arr[0:2, 1:5])"
   ]
  },
  {
   "cell_type": "code",
   "execution_count": 58,
   "id": "2a23cc00",
   "metadata": {},
   "outputs": [
    {
     "name": "stdout",
     "output_type": "stream",
     "text": [
      "[[ 2  3  4  5]\n",
      " [ 7  8  9 10]\n",
      " [11 12 13 14]]\n"
     ]
    }
   ],
   "source": [
    "print(arr[0:3, 1:5])"
   ]
  },
  {
   "cell_type": "markdown",
   "id": "56841261",
   "metadata": {},
   "source": [
    "**Reshaping**"
   ]
  },
  {
   "cell_type": "code",
   "execution_count": 69,
   "id": "a96c78bb",
   "metadata": {},
   "outputs": [
    {
     "name": "stdout",
     "output_type": "stream",
     "text": [
      "[ 1 24  7 44 22 48 47 24 39 43 40 12]\n",
      "(12,)\n",
      "[[ 1 24  7 44 22 48]\n",
      " [47 24 39 43 40 12]]\n",
      "[[ 1 24  7 44]\n",
      " [22 48 47 24]\n",
      " [39 43 40 12]]\n",
      "[[ 1 24  7]\n",
      " [44 22 48]\n",
      " [47 24 39]\n",
      " [43 40 12]]\n",
      "[[[ 1 24  7 44]\n",
      "  [22 48 47 24]\n",
      "  [39 43 40 12]]]\n"
     ]
    }
   ],
   "source": [
    "\n",
    "#  RESHAPE\n",
    "import numpy as np\n",
    "arr = np.random.randint(1,50,12)\n",
    "print(arr)\n",
    "print(arr.shape)\n",
    "arr=arr.reshape(2,6)\n",
    "print(arr)\n",
    "arr=arr.reshape(3,4)\n",
    "print(arr)\n",
    "#  same we can do with other dimensions etc.\n",
    "arr = arr.reshape(4,-1)\n",
    "#  -1 will calculate if possible the other dimension\n",
    "print(arr)\n",
    "arr = arr.reshape(1,3,-1)\n",
    "print(arr)\n",
    "# if not possible to find integet dimensions then it will throw error"
   ]
  },
  {
   "cell_type": "code",
   "execution_count": null,
   "id": "061f9034",
   "metadata": {},
   "outputs": [],
   "source": [
    "# SEED function : we know that randint() function generated random numbers. Everrytime we eun the program new set\n",
    "# of random number is generated. But what if we want to fiz the generation of this random numner. \n",
    "\n",
    "import numpy as np\n",
    "np.random.seed(11)\n",
    "\n",
    "arr=np.random.randint(1,100,10)\n",
    "print(arr)"
   ]
  },
  {
   "cell_type": "markdown",
   "id": "1cf04902",
   "metadata": {},
   "source": [
    "**VIEW VS COPY**"
   ]
  },
  {
   "cell_type": "code",
   "execution_count": 86,
   "id": "5ff8db41",
   "metadata": {},
   "outputs": [
    {
     "name": "stdout",
     "output_type": "stream",
     "text": [
      "[3 4 5 6]\n",
      "[0 0 0 0]\n",
      "[1 2 0 0 0 0 7]\n"
     ]
    }
   ],
   "source": [
    "import numpy as np\n",
    "a = np.array([1,2,3,4,5,6,7])\n",
    "slicing=a[2:6]\n",
    "print(slicing)\n",
    "slicing[:]=0\n",
    "print(slicing)\n",
    "print(a)\n",
    "#changes made in slicing also took place in parent array\n",
    "# view is default "
   ]
  },
  {
   "cell_type": "code",
   "execution_count": 89,
   "id": "dbcfa4d2",
   "metadata": {},
   "outputs": [
    {
     "name": "stdout",
     "output_type": "stream",
     "text": [
      "[3 4 5 6]\n",
      "[0 0 0 0]\n",
      "[1 2 3 4 5 6 7]\n"
     ]
    }
   ],
   "source": [
    "import numpy as np\n",
    "a = np.array([1,2,3,4,5,6,7])\n",
    "slicing=a[2:6].copy()\n",
    "# copy allows this (below)\n",
    "print(slicing)\n",
    "slicing[:]=0\n",
    "print(slicing)\n",
    "print(a)"
   ]
  },
  {
   "cell_type": "code",
   "execution_count": 92,
   "id": "e3a0536a",
   "metadata": {},
   "outputs": [
    {
     "name": "stdout",
     "output_type": "stream",
     "text": [
      "[ True  True  True  True False False False]\n",
      "[6 7]\n",
      "[1 2 3 4 5 6 0]\n"
     ]
    }
   ],
   "source": [
    "#  CONDITIONAL SELECTION\n",
    "import numpy as np\n",
    "a = np.array([1,2,3,4,5,6,7])\n",
    "b=a<5\n",
    "print(b)\n",
    "c=a[a>5]\n",
    "print(c)\n",
    "a[a>6]=0\n",
    "print(a)"
   ]
  },
  {
   "cell_type": "markdown",
   "id": "a1d6ae04",
   "metadata": {},
   "source": [
    "### operations on array"
   ]
  },
  {
   "cell_type": "code",
   "execution_count": null,
   "id": "19daac51",
   "metadata": {},
   "outputs": [],
   "source": [
    "# arange(a,b) a to b-1"
   ]
  },
  {
   "cell_type": "code",
   "execution_count": 102,
   "id": "3eeb79c5",
   "metadata": {},
   "outputs": [
    {
     "data": {
      "text/plain": [
       "array([1, 2, 3, 4])"
      ]
     },
     "execution_count": 102,
     "metadata": {},
     "output_type": "execute_result"
    }
   ],
   "source": [
    "import numpy as np\n",
    "# a = np.array([1,2,3,4,5,6,7])\n",
    "# a*2\n",
    "# print(a)\n",
    "arr=np.arange(1,5)\n",
    "arr*2\n",
    "arr\n",
    "\n"
   ]
  },
  {
   "cell_type": "code",
   "execution_count": 99,
   "id": "2cbbd505",
   "metadata": {},
   "outputs": [
    {
     "data": {
      "text/plain": [
       "array([1, 2, 3, 4, 5, 6, 7])"
      ]
     },
     "execution_count": 99,
     "metadata": {},
     "output_type": "execute_result"
    }
   ],
   "source": [
    "arr*2\n",
    "arr"
   ]
  },
  {
   "cell_type": "code",
   "execution_count": 108,
   "id": "9b12c85c",
   "metadata": {},
   "outputs": [
    {
     "name": "stdout",
     "output_type": "stream",
     "text": [
      "[2 3 1 1 9 9]\n",
      "[15 12 12 13 19 14]\n",
      "[17 15 13 14 28 23]\n",
      "[ 30  36  12  13 171 126]\n",
      "[0.13333333 0.25       0.08333333 0.07692308 0.47368421 0.64285714]\n"
     ]
    }
   ],
   "source": [
    "import numpy as np\n",
    "a= np.random.randint(1,10,6)\n",
    "b=np.random.randint(11,20,6)\n",
    "c=a+b  \n",
    "\n",
    "print(a)\n",
    "print(b)\n",
    "print(c)\n",
    "d=a*b\n",
    "print(d)\n",
    "e=a/b\n",
    "print(e)\n",
    "#  we can reshape the arrays and do operations"
   ]
  },
  {
   "cell_type": "markdown",
   "id": "355b51d2",
   "metadata": {},
   "source": [
    "**functions**"
   ]
  },
  {
   "cell_type": "code",
   "execution_count": 111,
   "id": "a6bf10c2",
   "metadata": {},
   "outputs": [
    {
     "name": "stdout",
     "output_type": "stream",
     "text": [
      "2\n",
      "111\n",
      "2\n",
      "7\n",
      "[ 2.23606798  4.35889894  1.41421356  1.73205081  1.41421356  3.16227766\n",
      "  3.74165739 10.53565375]\n"
     ]
    },
    {
     "data": {
      "text/plain": [
       "array([ 0.28366219,  0.98870462, -0.41614684, -0.9899925 , -0.41614684,\n",
       "       -0.83907153,  0.13673722, -0.50254432])"
      ]
     },
     "execution_count": 111,
     "metadata": {},
     "output_type": "execute_result"
    }
   ],
   "source": [
    "import numpy as np\n",
    "arr=np.array([5,19,2,3,2,10,14,111])\n",
    "print(np.min(arr))\n",
    "print(np.max(arr))\n",
    "print(np.argmin(arr))\n",
    "print(np.argmax(arr))\n",
    "print(np.sqrt(arr))\n",
    "np.sin(arr)\n",
    "np.cos(arr)\n"
   ]
  },
  {
   "cell_type": "code",
   "execution_count": 112,
   "id": "674dae4b",
   "metadata": {},
   "outputs": [
    {
     "data": {
      "text/plain": [
       "111"
      ]
     },
     "execution_count": 112,
     "metadata": {},
     "output_type": "execute_result"
    }
   ],
   "source": [
    "np.max(arr)"
   ]
  },
  {
   "cell_type": "code",
   "execution_count": null,
   "id": "4f9635ef",
   "metadata": {},
   "outputs": [],
   "source": [
    "# linspace(a,b,n)  between a and b we will get n elements"
   ]
  },
  {
   "cell_type": "code",
   "execution_count": 113,
   "id": "bb8a069d",
   "metadata": {},
   "outputs": [
    {
     "data": {
      "text/plain": [
       "array([ 1.        ,  1.47368421,  1.94736842,  2.42105263,  2.89473684,\n",
       "        3.36842105,  3.84210526,  4.31578947,  4.78947368,  5.26315789,\n",
       "        5.73684211,  6.21052632,  6.68421053,  7.15789474,  7.63157895,\n",
       "        8.10526316,  8.57894737,  9.05263158,  9.52631579, 10.        ])"
      ]
     },
     "execution_count": 113,
     "metadata": {},
     "output_type": "execute_result"
    }
   ],
   "source": [
    "np.linspace(1,10,20)"
   ]
  },
  {
   "cell_type": "code",
   "execution_count": 118,
   "id": "042720b3",
   "metadata": {},
   "outputs": [
    {
     "name": "stdout",
     "output_type": "stream",
     "text": [
      "[[  5  19]\n",
      " [  2   3]\n",
      " [  2  10]\n",
      " [ 14 111]]\n",
      "[ 5  2  2 14]\n",
      "[ 14 111]\n",
      "[ 24   5  12 125]\n"
     ]
    }
   ],
   "source": [
    "arr=arr.reshape(4,2)\n",
    "arr\n",
    "print(arr)\n",
    "# axis 1 for rows and 0 for columns\n",
    "print(np.min(arr,axis=1))\n",
    "print(np.max(arr,axis=0))\n",
    "print(np.sum(arr,axis=1))"
   ]
  },
  {
   "cell_type": "code",
   "execution_count": 124,
   "id": "4cf6be56",
   "metadata": {},
   "outputs": [
    {
     "name": "stdout",
     "output_type": "stream",
     "text": [
      "[12  7 18  3  4  4 13 17 18 21]\n",
      "[17  4 12 21  7 18  4 13  3 18]\n",
      "[17  4 12 21  7 18  4 13  3 18]\n"
     ]
    },
    {
     "data": {
      "text/plain": [
       "8"
      ]
     },
     "execution_count": 124,
     "metadata": {},
     "output_type": "execute_result"
    }
   ],
   "source": [
    "import numpy as np\n",
    "np.random.seed(12)\n",
    "a = np.random.randint(1,22,10)\n",
    "b=np.random.randint(2,50,10)\n",
    "print(a)\n",
    "# shuffles the array \n",
    "np.random.shuffle(a)\n",
    "print(a)\n",
    "# total number of unique elements\n",
    "\n",
    "np.unique(a)\n",
    "print(a)\n",
    "np.unique(a).size \n"
   ]
  },
  {
   "cell_type": "code",
   "execution_count": 125,
   "id": "1d51819d",
   "metadata": {},
   "outputs": [
    {
     "data": {
      "text/plain": [
       "array([17,  4, 12, 21,  7, 18,  4, 13,  3, 18,  7, 15, 27, 36, 13, 12,  2,\n",
       "       42, 14, 15])"
      ]
     },
     "execution_count": 125,
     "metadata": {},
     "output_type": "execute_result"
    }
   ],
   "source": [
    "np.hstack((a,b))\n",
    "\n",
    "# horizontal stack\n"
   ]
  },
  {
   "cell_type": "code",
   "execution_count": 127,
   "id": "376b4c3e",
   "metadata": {},
   "outputs": [
    {
     "data": {
      "text/plain": [
       "array([[17,  4, 12, 21,  7, 18,  4, 13,  3, 18],\n",
       "       [ 7, 15, 27, 36, 13, 12,  2, 42, 14, 15]])"
      ]
     },
     "execution_count": 127,
     "metadata": {},
     "output_type": "execute_result"
    }
   ],
   "source": [
    "np.vstack((a,b))\n",
    "# vertical stack 2 brackets remember"
   ]
  },
  {
   "cell_type": "code",
   "execution_count": 128,
   "id": "168ee282",
   "metadata": {},
   "outputs": [
    {
     "data": {
      "text/plain": [
       "array([17,  4, 12, 21,  7, 18,  4, 13,  3, 18,  7, 15, 27, 36, 13, 12,  2,\n",
       "       42, 14, 15])"
      ]
     },
     "execution_count": 128,
     "metadata": {},
     "output_type": "execute_result"
    }
   ],
   "source": [
    "np.concatenate((a,b))"
   ]
  },
  {
   "cell_type": "code",
   "execution_count": 129,
   "id": "27ddae13",
   "metadata": {},
   "outputs": [
    {
     "data": {
      "text/plain": [
       "[array([17,  4, 12, 21]), array([ 7, 18,  4]), array([13,  3, 18])]"
      ]
     },
     "execution_count": 129,
     "metadata": {},
     "output_type": "execute_result"
    }
   ],
   "source": [
    "np.array_split(a,3)"
   ]
  },
  {
   "cell_type": "code",
   "execution_count": 130,
   "id": "774ee3ae",
   "metadata": {},
   "outputs": [
    {
     "name": "stdout",
     "output_type": "stream",
     "text": [
      "[17  4 12 21]\n",
      "[13  3 18]\n"
     ]
    }
   ],
   "source": [
    "x=np.array_split(a,3)\n",
    "print(x[0])\n",
    "print(x[2])"
   ]
  },
  {
   "cell_type": "markdown",
   "id": "726cace0",
   "metadata": {},
   "source": [
    "**SEARCHING**"
   ]
  },
  {
   "cell_type": "code",
   "execution_count": 132,
   "id": "22e8dd45",
   "metadata": {},
   "outputs": [
    {
     "name": "stdout",
     "output_type": "stream",
     "text": [
      "(array([1, 7]),)\n"
     ]
    }
   ],
   "source": [
    "# WHERE function\n",
    "import numpy as np\n",
    "arr=np.array([10,20,45,78,12,34,56,20])\n",
    "x=np.where(arr==20)\n",
    "print(x)"
   ]
  },
  {
   "cell_type": "code",
   "execution_count": 135,
   "id": "8a2ec880",
   "metadata": {},
   "outputs": [
    {
     "name": "stdout",
     "output_type": "stream",
     "text": [
      "3\n",
      "4\n"
     ]
    }
   ],
   "source": [
    "# searchsorted = this method performs a binary search in the array and returns the index where the specigied value would be  inserted to maintain the search order\n",
    "\n",
    "arr=np.array([3,4,7,10,19])\n",
    "y=np.searchsorted(arr,8)\n",
    "print(y)\n",
    "y=np.searchsorted(arr,11,side='right')\n",
    "print(y)"
   ]
  },
  {
   "cell_type": "code",
   "execution_count": null,
   "id": "1a567cbf",
   "metadata": {},
   "outputs": [],
   "source": [
    "#sort np.sort(arr)\n"
   ]
  },
  {
   "cell_type": "code",
   "execution_count": 136,
   "id": "9f5f1b71",
   "metadata": {},
   "outputs": [
    {
     "name": "stdout",
     "output_type": "stream",
     "text": [
      "['apple' 'banana' 'cherry']\n"
     ]
    }
   ],
   "source": [
    "import numpy as np\n",
    "\n",
    "arr = np.array(['banana', 'cherry', 'apple'])\n",
    "\n",
    "print(np.sort(arr))"
   ]
  },
  {
   "cell_type": "code",
   "execution_count": 141,
   "id": "5b0b9f53",
   "metadata": {},
   "outputs": [
    {
     "name": "stdout",
     "output_type": "stream",
     "text": [
      "7\n"
     ]
    }
   ],
   "source": [
    "#choice function allows to generate a random value based on an array of values\n",
    "import numpy as np\n",
    "\n",
    "x = np.random.choice([3, 5, 7, 9])\n",
    "\n",
    "print(x)"
   ]
  },
  {
   "cell_type": "markdown",
   "id": "25276a5e",
   "metadata": {},
   "source": [
    "## DISTRIBUTION"
   ]
  },
  {
   "cell_type": "code",
   "execution_count": 143,
   "id": "3791b0e9",
   "metadata": {},
   "outputs": [
    {
     "name": "stdout",
     "output_type": "stream",
     "text": [
      "[3 5 5 5 7 7 7 5 7 7 5 5 7 7 7 7 7 7 7 7 7 5 7 7 7 7 5 7 3 3 7 7 3 5 5 3 7\n",
      " 7 3 7 7 5 5 7 7 7 7 7 7 7]\n"
     ]
    }
   ],
   "source": [
    "# Data Distribution is a list of all possible values, and how often each value occurs.\n",
    "import numpy as np\n",
    "\n",
    "x = np.random.choice([3, 5, 7, 9], p=[0.1, 0.3, 0.6, 0.0], size=(50))\n",
    "\n",
    "print(x)\n",
    "\n",
    "# 7 will be 0.6*50 times in array 30 times"
   ]
  },
  {
   "cell_type": "code",
   "execution_count": 145,
   "id": "ebdcd10f",
   "metadata": {},
   "outputs": [
    {
     "name": "stdout",
     "output_type": "stream",
     "text": [
      "[2 3 4 1 5]\n",
      "[1 2 3 4 5]\n",
      "None\n",
      "[2 4 3 1 5]\n"
     ]
    }
   ],
   "source": [
    "# The shuffle() method makes changes to the original array.\n",
    "# The permutation() method returns a re-arranged array (and leaves the original array un-changed).\n",
    "import numpy as np\n",
    "\n",
    "arr = np.array([1, 2, 3, 4, 5])\n",
    "b=np.random.permutation(arr)\n",
    "print(b)\n",
    "print(arr)\n",
    "c=np.random.shuffle(arr)\n",
    "print(c)\n",
    "print(arr)\n",
    "# print(random.permutation(arr))\n"
   ]
  },
  {
   "cell_type": "code",
   "execution_count": 146,
   "id": "7036458c",
   "metadata": {},
   "outputs": [
    {
     "name": "stdout",
     "output_type": "stream",
     "text": [
      "[[ 1.17488894  1.4132433   1.93357082]\n",
      " [-0.61858912  0.19231599  0.68332949]]\n"
     ]
    }
   ],
   "source": [
    "# normal districution\n",
    "# loc - (Mean) where the peak of the bell exists.\n",
    "\n",
    "# scale - (Standard Deviation) how flat the graph distribution should be.\n",
    "\n",
    "# size - The shape of the returned array.\n",
    "\n",
    "from numpy import random\n",
    "\n",
    "x = random.normal(size=(2, 3))\n",
    "\n",
    "print(x)"
   ]
  },
  {
   "cell_type": "code",
   "execution_count": 147,
   "id": "a974e79c",
   "metadata": {},
   "outputs": [
    {
     "name": "stdout",
     "output_type": "stream",
     "text": [
      "[[-1.35390977 -1.31336497  2.18299571]\n",
      " [ 0.75086905  1.86314057  2.63187144]]\n"
     ]
    }
   ],
   "source": [
    "from numpy import random\n",
    "\n",
    "x = random.normal(loc=1, scale=2, size=(2, 3))\n",
    "\n",
    "print(x)"
   ]
  },
  {
   "cell_type": "code",
   "execution_count": 148,
   "id": "2d78ba36",
   "metadata": {},
   "outputs": [
    {
     "name": "stderr",
     "output_type": "stream",
     "text": [
      "/home/abhishek/.local/lib/python3.8/site-packages/seaborn/distributions.py:2619: FutureWarning: `distplot` is a deprecated function and will be removed in a future version. Please adapt your code to use either `displot` (a figure-level function with similar flexibility) or `kdeplot` (an axes-level function for kernel density plots).\n",
      "  warnings.warn(msg, FutureWarning)\n"
     ]
    },
    {
     "data": {
      "image/png": "[encoded data removed]",
      "text/plain": [
       "<Figure size 432x288 with 1 Axes>"
      ]
     },
     "metadata": {
      "needs_background": "light"
     },
     "output_type": "display_data"
    }
   ],
   "source": [
    "from numpy import random\n",
    "import matplotlib.pyplot as plt\n",
    "import seaborn as sns\n",
    "\n",
    "sns.distplot(random.normal(size=1000), hist=False)\n",
    "\n",
    "plt.show()"
   ]
  },
  {
   "cell_type": "code",
   "execution_count": 149,
   "id": "629f70d4",
   "metadata": {},
   "outputs": [
    {
     "name": "stdout",
     "output_type": "stream",
     "text": [
      "[9 6 5 6 6 5 7 5 5 7]\n"
     ]
    }
   ],
   "source": [
    "# Bionomial distribution is a discrete distribution\n",
    "# It describes the outcome of binary scenarios, e.g. toss of a coin, it will either be head or tails.\n",
    "# It has three parameters:\n",
    "# n - number of trials.\n",
    "# p - probability of occurence of each trial (e.g. for toss of a coin 0.5 each).\n",
    "# size - The shape of the returned array.\n",
    "from numpy import random\n",
    "\n",
    "x = random.binomial(n=10, p=0.5, size=10)\n",
    "\n",
    "print(x)"
   ]
  },
  {
   "cell_type": "code",
   "execution_count": null,
   "id": "132e9f71",
   "metadata": {},
   "outputs": [],
   "source": []
  }
 ],
 "metadata": {
  "kernelspec": {
   "display_name": "Python 3 (ipykernel)",
   "language": "python",
   "name": "python3"
  },
  "language_info": {
   "codemirror_mode": {
    "name": "ipython",
    "version": 3
   },
   "file_extension": ".py",
   "mimetype": "text/x-python",
   "name": "python",
   "nbconvert_exporter": "python",
   "pygments_lexer": "ipython3",
   "version": "3.8.10"
  }
 },
 "nbformat": 4,
 "nbformat_minor": 5
}
