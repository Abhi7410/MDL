{
 "cells": [
  {
   "cell_type": "markdown",
   "id": "5031c0ee",
   "metadata": {},
   "source": [
    "# BIAS AND VARIANCE TRADEOFF"
   ]
  },
  {
   "cell_type": "markdown",
   "id": "074df34e",
   "metadata": {},
   "source": [
    "<font color='red'><b>BIAS</b></font>"
   ]
  },
  {
   "cell_type": "markdown",
   "id": "6ba56ff3",
   "metadata": {},
   "source": [
    "<p>The bias is a measure of how close the model can capture the mapping function between inputs and outputs. It captures the rigidity of the model, the strength of the assumption the model has about the funtional form of the mapping between inputs and outputs.\n",
    "    \n",
    "Technically, we can define bias as the error between average model prediction and the ground truth. Moreover, it describes how well the model matches the training data set:\n",
    "1. A model with a higher bias would not match the data set closely.\n",
    "2. A low bias model will closely match the training data set.\n",
    "    \n",
    "Signs of High Bias :\n",
    "1. Failure to cature data trends\n",
    "2. Underfitting\n",
    "3. Overly simplified\n",
    "4. High error rate\n",
    "    \n",
    "   The bias is always positive.\n",
    "</p>"
   ]
  },
  {
   "cell_type": "markdown",
   "id": "d22189b8",
   "metadata": {},
   "source": [
    "<font color = 'red'>VARIANCE</font>"
   ]
  },
  {
   "cell_type": "markdown",
   "id": "59a92f49",
   "metadata": {},
   "source": [
    "<p>The variance of the model is the amount the performance of the model changes when it is fit on different training data.\n",
    "    It captures the impact of the speciies the data has on the model.\n",
    "    A model with high variance will change a lot with small changes to the training dataset. Conversely, a model with low variance will change little with small or even large changes to the training dataset.\n",
    "\n",
    "Low Variance: Small changes to the model with changes to the training dataset.\n",
    "High Variance: Large changes to the model with changes to the training dataset.\n",
    "    \n",
    "    Signs of High variance:\n",
    "    1. Noise in the data set\n",
    "    2. Potential towerds overfitting\n",
    "    3. Complex models\n",
    "    4. Trying to put all data points as close as possible.\n",
    "    \n",
    "The variance is always positive.\n",
    "</p>\n",
    "\n"
   ]
  },
  {
   "cell_type": "markdown",
   "id": "9359e5d0",
   "metadata": {},
   "source": [
    "<font color='red'>IRREDUCIBLE ERROR</font>"
   ]
  },
  {
   "cell_type": "markdown",
   "id": "eae93a51",
   "metadata": {},
   "source": [
    "<p>\n",
    "On the whole, the error of a model consists of reducible error and irreducible error.\n",
    "\n",
    "Model Error = Reducible Error + Irreducible Error\n",
    "The reducible error is the element that we can improve. It is the quantity that we reduce when the model is learning on a training dataset and we try to get this number as close to zero as possible.\n",
    "\n",
    "The irreducible error is the error that we can not remove with our model, or with any model.\n",
    "\n",
    "The error is caused by elements outside our control, such as statistical noise in the observations.\n",
    "\n",
    "    It is reminder that no model is perfect.\n",
    "\n",
    "\n",
    "</p>"
   ]
  },
  {
   "cell_type": "markdown",
   "id": "873af8cc",
   "metadata": {},
   "source": [
    "<font color='blue'>BIAS-VARIANCE TRADEOFF</font>\n"
   ]
  },
  {
   "cell_type": "markdown",
   "id": "1ad74bbe",
   "metadata": {},
   "source": [
    "<p>\n",
    "The bias and the variance of a model’s performance are connected.\n",
    "\n",
    "Ideally, we would prefer a model with low bias and low variance, although in practice, this is very challenging. In fact, this could be described as the goal of applied machine learning for a given predictive modeling problem,\n",
    "\n",
    "Reducing the bias can easily be achieved by increasing the variance. Conversely, reducing the variance can easily be achieved by increasing the bias. Bias and variance are inversely related to each other.\n",
    "We can choose a model based on its bias or variance. Simple models, such as linear regression and logistic regression, generally have a high bias and a low variance. Complex models, such as random forest, generally have a low bias but a high variance.\n",
    "    \n",
    "    High bias is not always bad, nor is high variance, but they can lead to poor results.\n",
    "\n",
    "We often must test a suite of different models and model configurations in order to discover what works best for a given dataset. A model with a large bias may be too rigid and underfit the problem. Conversely, a large variance may overfit the problem.\n",
    "\n",
    "We may decide to increase the bias or the variance as long as it decreases the overall estimate of model error.\n",
    "\n",
    "\n",
    "</p>"
   ]
  }
 ],
 "metadata": {
  "kernelspec": {
   "display_name": "Python 3 (ipykernel)",
   "language": "python",
   "name": "python3"
  },
  "language_info": {
   "codemirror_mode": {
    "name": "ipython",
    "version": 3
   },
   "file_extension": ".py",
   "mimetype": "text/x-python",
   "name": "python",
   "nbconvert_exporter": "python",
   "pygments_lexer": "ipython3",
   "version": "3.8.10"
  }
 },
 "nbformat": 4,
 "nbformat_minor": 5
}
